{
  "cells": [
    {
      "cell_type": "code",
      "source": [
        "pip install scikit-learn==1.2.2"
      ],
      "metadata": {
        "colab": {
          "base_uri": "https://localhost:8080/"
        },
        "id": "4jsHl3AHHCLx",
        "outputId": "b1b5e89c-fe97-4cd1-9622-c310e2efab1a"
      },
      "execution_count": null,
      "outputs": [
        {
          "output_type": "stream",
          "name": "stdout",
          "text": [
            "Requirement already satisfied: scikit-learn==1.2.2 in /usr/local/lib/python3.10/dist-packages (1.2.2)\n",
            "Requirement already satisfied: numpy>=1.17.3 in /usr/local/lib/python3.10/dist-packages (from scikit-learn==1.2.2) (1.25.2)\n",
            "Requirement already satisfied: scipy>=1.3.2 in /usr/local/lib/python3.10/dist-packages (from scikit-learn==1.2.2) (1.11.4)\n",
            "Requirement already satisfied: joblib>=1.1.1 in /usr/local/lib/python3.10/dist-packages (from scikit-learn==1.2.2) (1.4.2)\n",
            "Requirement already satisfied: threadpoolctl>=2.0.0 in /usr/local/lib/python3.10/dist-packages (from scikit-learn==1.2.2) (3.5.0)\n"
          ]
        }
      ]
    },
    {
      "cell_type": "code",
      "execution_count": null,
      "metadata": {
        "colab": {
          "base_uri": "https://localhost:8080/"
        },
        "id": "j4aA5bbd9Iml",
        "outputId": "1ed72bde-c065-453a-e9ba-ab88d8de8569"
      },
      "outputs": [
        {
          "output_type": "stream",
          "name": "stdout",
          "text": [
            "<class 'pandas.core.frame.DataFrame'>\n",
            "RangeIndex: 8641 entries, 0 to 8640\n",
            "Data columns (total 6 columns):\n",
            " #   Column       Non-Null Count  Dtype \n",
            "---  ------       --------------  ----- \n",
            " 0   Source       8641 non-null   object\n",
            " 1   Destination  8640 non-null   object\n",
            " 2   Protocol     8640 non-null   object\n",
            " 3   Length       8640 non-null   object\n",
            " 4   Tcp_Flags    6202 non-null   object\n",
            " 5   Label        8640 non-null   object\n",
            "dtypes: object(6)\n",
            "memory usage: 405.2+ KB\n"
          ]
        },
        {
          "output_type": "execute_result",
          "data": {
            "text/plain": [
              "(           Source      Destination Protocol Length Tcp_Flags   Label\n",
              " 0  192.168.29.109  255.255.255.255       17    305       NaN  Normal\n",
              " 1    192.168.29.9   192.168.29.109        6   1254         S     DoS\n",
              " 2    192.168.29.9   192.168.29.109        6   1254         S     DoS\n",
              " 3    192.168.29.9   192.168.29.109        6   1254         S     DoS\n",
              " 4    192.168.29.9   192.168.29.109        6   1254         S     DoS,\n",
              " None,\n",
              "               Source     Destination Protocol Length Tcp_Flags   Label\n",
              " count           8641            8640     8640   8640      6202    8640\n",
              " unique             4               4        4     63        11       4\n",
              " top     192.168.29.9  192.168.29.109        6   1254         S  Normal\n",
              " freq            6045            6045     6220   3302      4636    4003,\n",
              " 8641)"
            ]
          },
          "metadata": {},
          "execution_count": 2
        }
      ],
      "source": [
        "import pandas as pd\n",
        "df = pd.read_csv('/content/Combined.csv')\n",
        "df.head(),df.info(),df.describe(),len(df)"
      ]
    },
    {
      "cell_type": "code",
      "execution_count": null,
      "metadata": {
        "colab": {
          "base_uri": "https://localhost:8080/"
        },
        "id": "tcnv4Z4j9WyH",
        "outputId": "2631add0-4bfc-4ee0-bae1-81c616e8661f"
      },
      "outputs": [
        {
          "output_type": "stream",
          "name": "stdout",
          "text": [
            "<class 'pandas.core.frame.DataFrame'>\n",
            "RangeIndex: 8641 entries, 0 to 8640\n",
            "Data columns (total 6 columns):\n",
            " #   Column       Non-Null Count  Dtype  \n",
            "---  ------       --------------  -----  \n",
            " 0   Source       8641 non-null   object \n",
            " 1   Destination  8640 non-null   object \n",
            " 2   Protocol     8640 non-null   object \n",
            " 3   Length       8638 non-null   float64\n",
            " 4   Tcp_Flags    6202 non-null   object \n",
            " 5   Label        8640 non-null   object \n",
            "dtypes: float64(1), object(5)\n",
            "memory usage: 405.2+ KB\n"
          ]
        },
        {
          "output_type": "execute_result",
          "data": {
            "text/plain": [
              "(None,\n",
              " Source            0\n",
              " Destination       1\n",
              " Protocol          1\n",
              " Length            3\n",
              " Tcp_Flags      2439\n",
              " Label             1\n",
              " dtype: int64)"
            ]
          },
          "metadata": {},
          "execution_count": 3
        }
      ],
      "source": [
        "# Convert 'Length' to numeric, setting errors='coerce' will convert non-convertible values to NaN\n",
        "df['Length'] = pd.to_numeric(df['Length'], errors='coerce')\n",
        "\n",
        "# Check the conversion and display any remaining missing values\n",
        "df.info(), df.isnull().sum()\n"
      ]
    },
    {
      "cell_type": "code",
      "execution_count": null,
      "metadata": {
        "colab": {
          "base_uri": "https://localhost:8080/"
        },
        "id": "yJJw3qaP9xEz",
        "outputId": "568089d1-923d-48b8-e871-5d0597863ced"
      },
      "outputs": [
        {
          "output_type": "stream",
          "name": "stdout",
          "text": [
            "(8641,)\n",
            "(8641,)\n",
            "(8641,)\n",
            "(8641,)\n"
          ]
        }
      ],
      "source": [
        "print(df['Destination'].shape)\n",
        "print(df['Protocol'].shape)\n",
        "print(df['Tcp_Flags'].shape)\n",
        "print(df['Label'].shape)\n"
      ]
    },
    {
      "cell_type": "code",
      "execution_count": null,
      "metadata": {
        "colab": {
          "base_uri": "https://localhost:8080/"
        },
        "id": "mIwOXZgC_JTw",
        "outputId": "dd2832cd-93cd-4956-a2f1-c59c73d8320c"
      },
      "outputs": [
        {
          "output_type": "stream",
          "name": "stdout",
          "text": [
            "Destination       1\n",
            "Protocol          1\n",
            "Tcp_Flags      2439\n",
            "Label             1\n",
            "dtype: int64\n",
            "Destination    object\n",
            "Protocol       object\n",
            "Tcp_Flags      object\n",
            "Label          object\n",
            "dtype: object\n",
            "Error processing Destination: 2\n",
            "Error processing Protocol: 2\n",
            "Error processing Tcp_Flags: 2\n",
            "Error processing Label: 2\n",
            "\n",
            "After imputation:\n",
            "Destination       1\n",
            "Protocol          1\n",
            "Tcp_Flags      2439\n",
            "Label             1\n",
            "dtype: int64\n"
          ]
        }
      ],
      "source": [
        "from sklearn.impute import SimpleImputer\n",
        "\n",
        "# Initialize the imputer for mode imputation\n",
        "mode_imputer = SimpleImputer(strategy='most_frequent')\n",
        "\n",
        "# List of categorical columns you mentioned\n",
        "columns_to_impute = ['Destination', 'Protocol', 'Tcp_Flags', 'Label']\n",
        "\n",
        "# Before applying the imputation, let's ensure no column is completely NaN and print data types\n",
        "print(df[columns_to_impute].isnull().sum())  # Check NaN counts in each column\n",
        "print(df[columns_to_impute].dtypes)          # Data types of each column\n",
        "\n",
        "# Apply mode imputation directly without reshaping manually\n",
        "for column in columns_to_impute:\n",
        "    if column in df.columns:\n",
        "        try:\n",
        "            # Impute directly using the column data\n",
        "            df[column] = mode_imputer.fit_transform(df[[column]])  # Use double brackets to maintain DataFrame slice\n",
        "        except Exception as e:\n",
        "            print(f\"Error processing {column}: {e}\")\n",
        "    else:\n",
        "        print(f\"Column {column} does not exist in the DataFrame.\")\n",
        "\n",
        "# After imputation, let's see if there are any remaining NaN values\n",
        "print(\"\\nAfter imputation:\")\n",
        "print(df[columns_to_impute].isnull().sum())\n"
      ]
    },
    {
      "cell_type": "code",
      "execution_count": null,
      "metadata": {
        "colab": {
          "base_uri": "https://localhost:8080/"
        },
        "id": "K0HC4q12_OI2",
        "outputId": "e910c256-2d84-4fef-e6c1-918f1947390e"
      },
      "outputs": [
        {
          "output_type": "stream",
          "name": "stdout",
          "text": [
            "              Source     Destination Protocol       Length Tcp_Flags   Label\n",
            "count           8641            8640     8640  8638.000000      6202    8640\n",
            "unique             4               4        4          NaN        11       4\n",
            "top     192.168.29.9  192.168.29.109        6          NaN         S  Normal\n",
            "freq            6045            6045     6220          NaN      4636    4003\n",
            "mean             NaN             NaN      NaN   523.575480       NaN     NaN\n",
            "std              NaN             NaN      NaN   575.878568       NaN     NaN\n",
            "min              NaN             NaN      NaN    42.000000       NaN     NaN\n",
            "25%              NaN             NaN      NaN    60.000000       NaN     NaN\n",
            "50%              NaN             NaN      NaN    70.000000       NaN     NaN\n",
            "75%              NaN             NaN      NaN  1254.000000       NaN     NaN\n",
            "max              NaN             NaN      NaN  1254.000000       NaN     NaN\n",
            "<class 'pandas.core.frame.DataFrame'>\n",
            "RangeIndex: 8641 entries, 0 to 8640\n",
            "Data columns (total 6 columns):\n",
            " #   Column       Non-Null Count  Dtype  \n",
            "---  ------       --------------  -----  \n",
            " 0   Source       8641 non-null   object \n",
            " 1   Destination  8640 non-null   object \n",
            " 2   Protocol     8640 non-null   object \n",
            " 3   Length       8638 non-null   float64\n",
            " 4   Tcp_Flags    6202 non-null   object \n",
            " 5   Label        8640 non-null   object \n",
            "dtypes: float64(1), object(5)\n",
            "memory usage: 405.2+ KB\n",
            "None\n"
          ]
        }
      ],
      "source": [
        "# Display a summary of the dataset to review changes\n",
        "print(df.describe(include='all'))\n",
        "print(df.info())\n"
      ]
    },
    {
      "cell_type": "code",
      "execution_count": null,
      "metadata": {
        "colab": {
          "base_uri": "https://localhost:8080/"
        },
        "id": "SnAKgDZy_gaS",
        "outputId": "fff5c08a-db00-4f21-a3c3-fbf78aa1b917"
      },
      "outputs": [
        {
          "output_type": "execute_result",
          "data": {
            "text/plain": [
              "Source            0\n",
              "Destination       1\n",
              "Protocol          1\n",
              "Length            3\n",
              "Tcp_Flags      2439\n",
              "Label             1\n",
              "dtype: int64"
            ]
          },
          "metadata": {},
          "execution_count": 7
        }
      ],
      "source": [
        "df.isnull().sum()"
      ]
    },
    {
      "cell_type": "code",
      "execution_count": null,
      "metadata": {
        "colab": {
          "base_uri": "https://localhost:8080/"
        },
        "id": "xBLI3m3Z_1o1",
        "outputId": "2015ee0b-5cc9-46fa-9ea4-6a41d037c405"
      },
      "outputs": [
        {
          "output_type": "stream",
          "name": "stdout",
          "text": [
            "Columns entirely NaN: Index([], dtype='object')\n",
            "Source         0\n",
            "Destination    0\n",
            "Protocol       0\n",
            "Length         3\n",
            "Tcp_Flags      0\n",
            "Label          0\n",
            "dtype: int64\n"
          ]
        }
      ],
      "source": [
        "# Check if entire columns are NaN and print column names\n",
        "print(\"Columns entirely NaN:\", df.columns[df.isnull().all()])\n",
        "\n",
        "# Fill completely NaN columns with a placeholder if necessary\n",
        "df['Tcp_Flags'].fillna('Unknown', inplace=True)\n",
        "\n",
        "# Re-check other columns where mode imputation might have failed\n",
        "columns_to_recheck = ['Destination', 'Protocol', 'Label']\n",
        "for column in columns_to_recheck:\n",
        "    if df[column].isnull().any():\n",
        "        # Re-impute or fill with a placeholder\n",
        "        df[column].fillna('Unknown', inplace=True)\n",
        "\n",
        "# Final check on null values\n",
        "print(df.isnull().sum())\n"
      ]
    },
    {
      "cell_type": "code",
      "execution_count": null,
      "metadata": {
        "colab": {
          "base_uri": "https://localhost:8080/"
        },
        "id": "Nni7owb0AsCV",
        "outputId": "6a2adea7-0487-40fd-e098-b567e68e42bf"
      },
      "outputs": [
        {
          "output_type": "stream",
          "name": "stdout",
          "text": [
            "NaN counts after conversion: 3\n",
            "Final NaN check for 'Length': 0\n"
          ]
        }
      ],
      "source": [
        "# Force convert 'Length' to numeric, coercing errors to NaN\n",
        "df['Length'] = pd.to_numeric(df['Length'], errors='coerce')\n",
        "\n",
        "# Re-check if there are still NaN values\n",
        "print(\"NaN counts after conversion:\", df['Length'].isnull().sum())\n",
        "\n",
        "# If NaN values exist, compute and fill with the median of the column\n",
        "if df['Length'].isnull().any():\n",
        "    median_value = df['Length'].median()\n",
        "    df['Length'].fillna(median_value, inplace=True)\n",
        "\n",
        "# Final check for 'Length'\n",
        "print(\"Final NaN check for 'Length':\", df['Length'].isnull().sum())\n"
      ]
    },
    {
      "cell_type": "code",
      "execution_count": null,
      "metadata": {
        "colab": {
          "base_uri": "https://localhost:8080/"
        },
        "id": "4o_NcQewAu3f",
        "outputId": "050c9cef-f888-4832-a03d-789e90ba8b33"
      },
      "outputs": [
        {
          "output_type": "execute_result",
          "data": {
            "text/plain": [
              "Source         0\n",
              "Destination    0\n",
              "Protocol       0\n",
              "Length         0\n",
              "Tcp_Flags      0\n",
              "Label          0\n",
              "dtype: int64"
            ]
          },
          "metadata": {},
          "execution_count": 10
        }
      ],
      "source": [
        "df.isnull().sum()"
      ]
    },
    {
      "cell_type": "code",
      "execution_count": null,
      "metadata": {
        "colab": {
          "base_uri": "https://localhost:8080/"
        },
        "id": "VQup6YtdAwk9",
        "outputId": "55622e1e-c5f9-431a-bda4-6dad548ddcfc"
      },
      "outputs": [
        {
          "output_type": "stream",
          "name": "stdout",
          "text": [
            "   Length   Label  Source_\u001a  Source_192.168.29.109  Source_192.168.29.9  \\\n",
            "0   305.0  Normal       0.0                    1.0                  0.0   \n",
            "1  1254.0     DoS       0.0                    0.0                  1.0   \n",
            "2  1254.0     DoS       0.0                    0.0                  1.0   \n",
            "3  1254.0     DoS       0.0                    0.0                  1.0   \n",
            "4  1254.0     DoS       0.0                    0.0                  1.0   \n",
            "\n",
            "   Source_Source  Destination_192.168.29.109  Destination_192.168.29.9  \\\n",
            "0            0.0                         0.0                       0.0   \n",
            "1            0.0                         1.0                       0.0   \n",
            "2            0.0                         1.0                       0.0   \n",
            "3            0.0                         1.0                       0.0   \n",
            "4            0.0                         1.0                       0.0   \n",
            "\n",
            "   Destination_255.255.255.255  Destination_Destination  ...  Tcp_Flags_FPU  \\\n",
            "0                          1.0                      0.0  ...            0.0   \n",
            "1                          0.0                      0.0  ...            0.0   \n",
            "2                          0.0                      0.0  ...            0.0   \n",
            "3                          0.0                      0.0  ...            0.0   \n",
            "4                          0.0                      0.0  ...            0.0   \n",
            "\n",
            "   Tcp_Flags_FSPU  Tcp_Flags_PA  Tcp_Flags_R  Tcp_Flags_RA  Tcp_Flags_S  \\\n",
            "0             0.0           0.0          0.0           0.0          0.0   \n",
            "1             0.0           0.0          0.0           0.0          1.0   \n",
            "2             0.0           0.0          0.0           0.0          1.0   \n",
            "3             0.0           0.0          0.0           0.0          1.0   \n",
            "4             0.0           0.0          0.0           0.0          1.0   \n",
            "\n",
            "   Tcp_Flags_SA  Tcp_Flags_SEC  Tcp_Flags_Tcp_Flags  Tcp_Flags_Unknown  \n",
            "0           0.0            0.0                  0.0                1.0  \n",
            "1           0.0            0.0                  0.0                0.0  \n",
            "2           0.0            0.0                  0.0                0.0  \n",
            "3           0.0            0.0                  0.0                0.0  \n",
            "4           0.0            0.0                  0.0                0.0  \n",
            "\n",
            "[5 rows x 28 columns]\n"
          ]
        }
      ],
      "source": [
        "from sklearn.preprocessing import OneHotEncoder\n",
        "import pandas as pd\n",
        "\n",
        "# Initialize the OneHotEncoder\n",
        "# Set 'sparse_output=False' if you want a dense numpy array instead of a sparse matrix\n",
        "encoder = OneHotEncoder(sparse_output=False)\n",
        "\n",
        "# List of categorical columns\n",
        "categorical_columns = ['Source', 'Destination', 'Protocol', 'Tcp_Flags']\n",
        "\n",
        "# Apply OneHotEncoding\n",
        "encoded_data = encoder.fit_transform(df[categorical_columns])\n",
        "\n",
        "# Create a DataFrame from the encoded data\n",
        "encoded_data = pd.DataFrame(encoded_data)\n",
        "\n",
        "# Use the new method to get feature names\n",
        "encoded_data.columns = encoder.get_feature_names_out(categorical_columns)\n",
        "\n",
        "# If you had previous columns that are not categorical and need to be included:\n",
        "remaining_columns = df.drop(columns=categorical_columns)\n",
        "df_encoded = pd.concat([remaining_columns, encoded_data], axis=1)\n",
        "\n",
        "print(df_encoded.head())\n"
      ]
    },
    {
      "cell_type": "code",
      "execution_count": null,
      "metadata": {
        "colab": {
          "base_uri": "https://localhost:8080/"
        },
        "id": "vyGNOmihBi0H",
        "outputId": "5266c1db-8431-49a8-a506-167684a4fef0"
      },
      "outputs": [
        {
          "output_type": "execute_result",
          "data": {
            "text/plain": [
              "((6048, 27), (2593, 27), (6048,), (2593,))"
            ]
          },
          "metadata": {},
          "execution_count": 12
        }
      ],
      "source": [
        "from sklearn.model_selection import train_test_split\n",
        "\n",
        "# Separating the features and the target variable\n",
        "X = df_encoded.drop('Label', axis=1)\n",
        "y = df_encoded['Label']\n",
        "\n",
        "# Splitting the dataset into training and testing sets\n",
        "X_train, X_test, y_train, y_test = train_test_split(X, y, test_size=0.3, random_state=42)\n",
        "\n",
        "# Verifying the sizes of the splits\n",
        "X_train.shape, X_test.shape, y_train.shape, y_test.shape\n"
      ]
    },
    {
      "cell_type": "code",
      "execution_count": null,
      "metadata": {
        "colab": {
          "base_uri": "https://localhost:8080/"
        },
        "id": "XCHYX9Z6Buzd",
        "outputId": "bb544833-6b03-4e15-caa1-a61b4ec90e3d"
      },
      "outputs": [
        {
          "output_type": "stream",
          "name": "stdout",
          "text": [
            "Random Forest  0.9996143463170073\n"
          ]
        }
      ],
      "source": [
        "from sklearn.ensemble import RandomForestClassifier\n",
        "from sklearn.metrics import accuracy_score, confusion_matrix\n",
        "\n",
        "# Initialize the Random Forest classifier\n",
        "rf_classifier = RandomForestClassifier(n_estimators=100, random_state=42)\n",
        "\n",
        "# Train the classifier\n",
        "rf_classifier.fit(X_train, y_train)\n",
        "\n",
        "# Predict on the test set\n",
        "y_pred = rf_classifier.predict(X_test)\n",
        "\n",
        "# Calculate accuracy\n",
        "accuracy = accuracy_score(y_test, y_pred)\n",
        "\n",
        "# Generate the confusion matrix\n",
        "conf_matrix = confusion_matrix(y_test, y_pred)\n",
        "\n",
        "print(\"Random Forest \",accuracy)\n"
      ]
    },
    {
      "cell_type": "code",
      "execution_count": null,
      "metadata": {
        "colab": {
          "base_uri": "https://localhost:8080/",
          "height": 641
        },
        "id": "sEzOQ3XvFOuL",
        "outputId": "5192f1b0-aade-431e-a57d-d118727e3684"
      },
      "outputs": [
        {
          "output_type": "display_data",
          "data": {
            "text/plain": [
              "<Figure size 1000x700 with 1 Axes>"
            ],
            "image/png": "[encoded data removed]"
          },
          "metadata": {}
        }
      ],
      "source": [
        "from sklearn.metrics import confusion_matrix\n",
        "import seaborn as sns\n",
        "import matplotlib.pyplot as plt\n",
        "\n",
        "# Assuming y_test is your true labels and y_pred are the predictions\n",
        "conf_matrix = confusion_matrix(y_test, y_pred)\n",
        "# Plotting the confusion matrix\n",
        "plt.figure(figsize=(10, 7))  # Set the figure size\n",
        "sns.heatmap(conf_matrix, annot=True, fmt='g', cmap='Blues', cbar=False)\n",
        "plt.xlabel('Predicted labels')\n",
        "plt.ylabel('True labels')\n",
        "plt.title('Confusion Matrix')\n",
        "plt.show()\n"
      ]
    },
    {
      "cell_type": "code",
      "execution_count": null,
      "metadata": {
        "colab": {
          "base_uri": "https://localhost:8080/",
          "height": 472
        },
        "id": "CyMvL1bPFaWY",
        "outputId": "d6a42cb1-7908-4989-faf6-eb87386ef5e4"
      },
      "outputs": [
        {
          "output_type": "display_data",
          "data": {
            "text/plain": [
              "<Figure size 640x480 with 1 Axes>"
            ],
            "image/png": "[encoded data removed]"
          },
          "metadata": {}
        }
      ],
      "source": [
        "# Assuming you have class names\n",
        "class_names = ['Normal', 'Scan', 'DoS']  # Adjust these to your actual class names\n",
        "\n",
        "sns.heatmap(conf_matrix, annot=True, fmt='g', cmap='Blues', cbar=False,\n",
        "            xticklabels=class_names, yticklabels=class_names)\n",
        "plt.xlabel('Predicted labels')\n",
        "plt.ylabel('True labels')\n",
        "plt.title('Confusion Matrix')\n",
        "plt.show()\n"
      ]
    },
    {
      "cell_type": "code",
      "execution_count": null,
      "metadata": {
        "colab": {
          "base_uri": "https://localhost:8080/"
        },
        "id": "khJURVGgD75B",
        "outputId": "0bc694c4-6dd8-4c3a-97eb-c91c2f2db88d"
      },
      "outputs": [
        {
          "output_type": "execute_result",
          "data": {
            "text/plain": [
              "['model.joblib']"
            ]
          },
          "metadata": {},
          "execution_count": 16
        }
      ],
      "source": [
        "from joblib import dump, load\n",
        "\n",
        "# Assuming 'classifier' is your trained model\n",
        "dump(rf_classifier, 'model.joblib')\n"
      ]
    },
    {
      "cell_type": "code",
      "source": [
        "# Import other classification models\n",
        "from sklearn.neighbors import KNeighborsClassifier\n",
        "from sklearn.svm import SVC\n",
        "from sklearn.naive_bayes import GaussianNB\n",
        "\n",
        "# Initialize the models\n",
        "knn_classifier = KNeighborsClassifier(n_neighbors=5)\n",
        "svm_classifier = SVC(kernel='linear')\n",
        "\n",
        "# Train each model\n",
        "knn_classifier.fit(X_train, y_train)\n",
        "svm_classifier.fit(X_train, y_train)\n",
        "\n",
        "# Predict using each model\n",
        "y_pred_knn = knn_classifier.predict(X_test)\n",
        "y_pred_svm = svm_classifier.predict(X_test)\n",
        "\n",
        "# Calculate accuracy for each model\n",
        "accuracy_knn = accuracy_score(y_test, y_pred_knn)\n",
        "accuracy_svm = accuracy_score(y_test, y_pred_svm)\n",
        "\n",
        "# Print the results\n",
        "print(\"KNN Accuracy:\", accuracy_knn)\n",
        "print(\"SVM Accuracy:\", accuracy_svm)\n",
        "\n",
        "# You can repeat the steps for generating confusion matrices and saving models for each classifier.\n"
      ],
      "metadata": {
        "colab": {
          "base_uri": "https://localhost:8080/"
        },
        "id": "z-udEEHKQqT6",
        "outputId": "011a56d0-555a-4c84-ab43-f887e2303f66"
      },
      "execution_count": null,
      "outputs": [
        {
          "output_type": "stream",
          "name": "stdout",
          "text": [
            "KNN Accuracy: 0.9973004242190513\n",
            "SVM Accuracy: 0.9996143463170073\n"
          ]
        }
      ]
    },
    {
      "cell_type": "code",
      "execution_count": null,
      "metadata": {
        "colab": {
          "base_uri": "https://localhost:8080/",
          "height": 747
        },
        "id": "gj4GRY3YB2yF",
        "outputId": "e3f7d1d1-7bf0-46e7-cc5d-9edc0be75618"
      },
      "outputs": [
        {
          "output_type": "stream",
          "name": "stderr",
          "text": [
            "/usr/local/lib/python3.10/dist-packages/IPython/core/pylabtools.py:151: UserWarning: Glyph 26 (\u001a) missing from current font.\n",
            "  fig.canvas.print_figure(bytes_io, **kw)\n"
          ]
        },
        {
          "output_type": "display_data",
          "data": {
            "text/plain": [
              "<Figure size 1000x800 with 1 Axes>"
            ],
            "image/png": "[encoded data removed]"
          },
          "metadata": {}
        }
      ],
      "source": [
        "import matplotlib.pyplot as plt\n",
        "\n",
        "# Get feature importances from the model\n",
        "feature_importances = rf_classifier.feature_importances_\n",
        "\n",
        "# Create a DataFrame to visualize them\n",
        "features_df = pd.DataFrame({\n",
        "    'Feature': X_train.columns,\n",
        "    'Importance': feature_importances\n",
        "})\n",
        "\n",
        "# Sort the DataFrame by importance\n",
        "features_df = features_df.sort_values(by='Importance', ascending=False)\n",
        "\n",
        "# Plotting the feature importances\n",
        "plt.figure(figsize=(10, 8))\n",
        "plt.barh(features_df['Feature'], features_df['Importance'], color='skyblue')\n",
        "plt.xlabel('Importance')\n",
        "plt.title('Feature Importance')\n",
        "plt.gca().invert_yaxis()  # Invert y-axis to have the most important at the top\n",
        "plt.show()\n"
      ]
    },
    {
      "cell_type": "code",
      "source": [],
      "metadata": {
        "id": "3W6VZ-BT_5_l"
      },
      "execution_count": null,
      "outputs": []
    }
  ],
  "metadata": {
    "colab": {
      "provenance": []
    },
    "kernelspec": {
      "display_name": "Python 3",
      "name": "python3"
    },
    "language_info": {
      "name": "python"
    }
  },
  "nbformat": 4,
  "nbformat_minor": 0
}